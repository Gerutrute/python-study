{
  "nbformat": 4,
  "nbformat_minor": 0,
  "metadata": {
    "colab": {
      "provenance": [],
      "authorship_tag": "ABX9TyNYi7LI/iXFcRYcsMeZE7n+"
    },
    "kernelspec": {
      "name": "python3",
      "display_name": "Python 3"
    },
    "language_info": {
      "name": "python"
    }
  },
  "cells": [
    {
      "cell_type": "code",
      "execution_count": 4,
      "metadata": {
        "id": "D7__Tcril_Ol"
      },
      "outputs": [],
      "source": [
        "import json\n",
        "import requests\n",
        "import pandas as pd\n",
        "from bs4 import BeautifulSoup"
      ]
    },
    {
      "cell_type": "code",
      "source": [
        "url = requests.get(\"https://upbit.com/service_center/press\")#request로 받을 시 제대로 된 데이터를 못받을 가능성이 있음\n",
        "html = BeautifulSoup(url.text)\n",
        "html"
      ],
      "metadata": {
        "colab": {
          "base_uri": "https://localhost:8080/"
        },
        "id": "q8toUD_aqk87",
        "outputId": "516bc14a-b742-4f12-b832-58d417120962"
      },
      "execution_count": 5,
      "outputs": [
        {
          "output_type": "execute_result",
          "data": {
            "text/plain": [
              "<!DOCTYPE html>\n",
              "<html><head> <title>업비트(Upbit)</title>\n",
              "<meta content=\"비트코인, 이더리움, 리플, NFT 등 다양한 디지털 자산, 국내 거래량 1위 거래소 업비트에서 지금 확인해보세요. No.1 Digital Asset Exchange in Korea, Upbit. Trade various digital assets conveniently and securely including Bitcoin, Ethereum, Ripple, NFT etc.\" name=\"description\"/>\n",
              "<meta content=\"upbit, 업빗, 업비트, 비트코인, 이더리움, 디지털자산, 디지털자산거래소\" name=\"keywords\"/>\n",
              "<meta content=\"https://upbit.com/service_center/press\" property=\"og:url\"/>\n",
              "<meta content=\"업비트(Upbit)\" property=\"og:site_name\"/>\n",
              "<meta content=\"업비트\" property=\"og:title\"/>\n",
              "<meta content=\"https://static.upbit.com/upbit-pc/seo/upbit_facebook.png\" property=\"og:image\"/>\n",
              "<meta content=\"1200\" property=\"og:image:width\"/>\n",
              "<meta content=\"627\" property=\"og:image:height\"/>\n",
              "<meta content=\"비트코인, 이더리움, 리플, NFT 등 다양한 디지털 자산, 국내 거래량 1위 거래소 업비트에서 지금 확인해보세요. No.1 Digital Asset Exchange in Korea, Upbit. Trade various digital assets conveniently and securely including Bitcoin, Ethereum, Ripple, NFT etc.\" property=\"og:description\"/>\n",
              "<meta content=\"ko_kr\" property=\"og:locale\"/>\n",
              "<meta content=\"website\" property=\"og:type\"/>\n",
              "<meta content=\"summary\" name=\"twitter:card\"/>\n",
              "<meta content=\"https://upbit.com/service_center/press\" name=\"twitter:url\"/>\n",
              "<meta content=\"업비트(Upbit)\" name=\"twitter:site_name\"/>\n",
              "<meta content=\"업비트\" name=\"twitter:title\"/>\n",
              "<meta content=\"https://static.upbit.com/upbit-pc/seo/upbit_facebook.png\" name=\"twitter:image\"/>\n",
              "<meta content=\"1200\" name=\"twitter:image:width\"/>\n",
              "<meta content=\"627\" name=\"twitter:image:height\"/>\n",
              "<meta content=\"비트코인, 이더리움, 리플, NFT 등 다양한 디지털 자산, 국내 거래량 1위 거래소 업비트에서 지금 확인해보세요. No.1 Digital Asset Exchange in Korea, Upbit. Trade various digital assets conveniently and securely including Bitcoin, Ethereum, Ripple, NFT etc.\" name=\"twitter:description\"/>\n",
              "<meta content=\"ko_kr\" name=\"twitter:locale\"/>\n",
              "<meta content=\"website\" name=\"twitter:type\"/>\n",
              "<meta content=\"두나무\" name=\"author\"/>\n",
              "<meta content=\"https://static.upbit.com/upbit-pc/seo/upbit_facebook.png\" name=\"image\"/>\n",
              "<meta content=\"Mon, 06 Jan 1990 00:00:01 GMT\" http-equiv=\"Expires\"/><meta content=\"-1\" http-equiv=\"Expires\"/><meta content=\"no-cache\" http-equiv=\"Pragma\"/><meta content=\"no-cache\" http-equiv=\"Cache-Control\"/><meta charset=\"utf-8\"/><meta content=\"IE=edge\" http-equiv=\"X-UA-Compatible\"/><meta content=\"telephone=no\" name=\"format-detection\"/><meta content=\"width=device-width,user-scalable=no,initial-scale=1,maximum-scale=1,minimum-scale=1\" name=\"viewport\"/><meta content=\"width=device-width,initial-scale=1,maximum-scale=1,minimum-scale=1,user-scalable=no\" name=\"viewport\"/><link href=\"/favicon.jpg\" rel=\"icon\" sizes=\"32x32\" type=\"image/jpg\"/><link href=\"/favicon.jpg\" rel=\"shortcut icon\"/><link href=\"/manifest.json\" rel=\"manifest\"/><link href=\"https://fonts.googleapis.com\" rel=\"preconnect\"/><link crossorigin=\"\" href=\"https://fonts.gstatic.com\" rel=\"preconnect\"/><link href=\"https://fonts.googleapis.com/css2?family=Noto+Sans+KR:wght@300;400;500;700&amp;family=Roboto:wght@300;400;500;700&amp;display=swap\" rel=\"stylesheet\"/><link href=\"https://fonts.googleapis.com/css?family=Droid+Sans\" rel=\"stylesheet\"/><noscript><img height=\"1\" src=\"https://www.facebook.com/tr?id=621223061560463&amp;ev=PageView&amp;noscript=1\" width=\"1\"/></noscript><script type=\"application/ld+json\">{\n",
              "        \"@context\": \"https://schema.org\",\n",
              "        \"@type\": \"Organization\",\n",
              "        \"name\": \"업비트(Upbit)\",\n",
              "        \"url\": \"https://upbit.com\",\n",
              "        \"sameAs\": [\n",
              "          \"https://play.google.com/store/apps/details?id=com.dunamu.exchange\",\n",
              "          \"https://apps.apple.com/kr/app/id1256371195\",\n",
              "          \"https://twitter.com/Official_Upbit\",\n",
              "          \"https://blog.naver.com/dunamupr\",\n",
              "          \"https://www.instagram.com/upbit_official\",\n",
              "          \"https://www.youtube.com/@UpbitOfficial\"\n",
              "        ]\n",
              "      }</script><script src=\"https://t1.daumcdn.net/mapjsapi/bundle/postcode/prod/postcode.v2.js\"></script><script crossorigin=\"anonymous\" defer=\"defer\" integrity=\"sha384-Ogfu3e9QiXGMjk3AD/KcPm0g6af+GlO6VGkEMjQkadUd9pMXTbc19hKvdBeOIUMN\" src=\"https://cdn.upbit.com/upbit-web/sri-v2-manifest-bundle-ea18ff857a1915b77cda.js\"></script><script crossorigin=\"anonymous\" defer=\"defer\" integrity=\"sha384-MmAQBI6v0lQsLF8QH0fKVg11DS1aK2k7CJ169QUwYqvmMpRWIr4scg7jD+IhBC3E\" src=\"https://cdn.upbit.com/upbit-web/sri-v2-client-source-bundle-cb0ec6b3aad71d3e084c.js\"></script><script crossorigin=\"anonymous\" defer=\"defer\" integrity=\"sha384-nbCiH9Zl6vV4Ux4gNqBFNlqK4FVJAY9d6FWpmc+ZldEbjhJpEC2PusWeGmUfxZXN\" src=\"https://cdn.upbit.com/upbit-web/sri-v2-locale-vendor-bundle-5d42267529fe2c428743.js\"></script><script crossorigin=\"anonymous\" defer=\"defer\" integrity=\"sha384-QgkRnJbJyATRdKU7lt0HJ4JAszJlibB5XbHxeeywcoIMPkzZzyT1Wc5d5HoQtESw\" src=\"https://cdn.upbit.com/upbit-web/sri-v2-react-vendor-bundle-7d626268f9665862cc3c.js\"></script><script crossorigin=\"anonymous\" defer=\"defer\" integrity=\"sha384-H2941Tur+y2R5r4vLNqvTtciXXEdz37fFKkjqpJA52vGms/e3mOuT46OkjUhwEB+\" src=\"https://cdn.upbit.com/upbit-web/sri-v2-chartiq-vendor-be089e5a-bundle-4afa9f2d9a805018d9b1.js\"></script><script crossorigin=\"anonymous\" defer=\"defer\" integrity=\"sha384-vrm4jHiw1t5hNF25nI/mJsHxUPayCpHjsGMWvyFCgOCZZDaEqDtwaueaBigXjTSU\" src=\"https://cdn.upbit.com/upbit-web/sri-v2-chartiq-vendor-f0f2e7e7-bundle-f8865a03f3d486d77d94.js\"></script><script crossorigin=\"anonymous\" defer=\"defer\" integrity=\"sha384-SD6280VK/6tg9Z30CDR3U8idHF9d7d89yRHNhdZ3KDiwtnMjRnzUqBrLL1hial1l\" src=\"https://cdn.upbit.com/upbit-web/sri-v2-chartiq-vendor-646f3c4c-bundle-e3ad280a87ed66c27968.js\"></script><script crossorigin=\"anonymous\" defer=\"defer\" integrity=\"sha384-zzQ2z1kc7YF+sX5Ue1tDkz4U+fmcu9yzt2bFyX4uTNM2OCxm+O6ivd3I6wZAX04E\" src=\"https://cdn.upbit.com/upbit-web/sri-v2-design-system-vendor-bundle-6fe12deb8d5bfbd8bbf4.js\"></script><script crossorigin=\"anonymous\" defer=\"defer\" integrity=\"sha384-ZnOGN8Xiu1QIkrAf6iPQjt7n7m4kYMHKGAzTJM3rOveW1Dtn0R4kVqhZpaO00bsl\" src=\"https://cdn.upbit.com/upbit-web/sri-v2-lodash-vendor-bundle-062f7b587d79af48e0b0.js\"></script><script crossorigin=\"anonymous\" defer=\"defer\" integrity=\"sha384-pKMJEe0DWOh0K60yMnV5I7zrtogPRmE25+FEnzrA+/iMaN+J7+O7UegNEfo+12e/\" src=\"https://cdn.upbit.com/upbit-web/sri-v2-vendors-cdd60c62-bundle-6061f5f0ff14eae0cfaa.js\"></script><script crossorigin=\"anonymous\" defer=\"defer\" integrity=\"sha384-lQ9Fo1BfDEHmmpQ95nXf6cT4DrJH/SVndJaMEvJAvNFdtAu1rjAtdysWjwjk+uxX\" src=\"https://cdn.upbit.com/upbit-web/sri-v2-vendors-d2eb5610-bundle-6762e8f38ad7a0e4ffa9.js\"></script><script crossorigin=\"anonymous\" defer=\"defer\" integrity=\"sha384-f+/Jz+NUidP/9jEkRghDKROukeW21Rf+tmau6m0XWrA9aK8iC34gU1M5go2E5R2N\" src=\"https://cdn.upbit.com/upbit-web/sri-v2-vendors-536eaa00-bundle-dec5e8d8008020dbdead.js\"></script><script crossorigin=\"anonymous\" defer=\"defer\" integrity=\"sha384-VlRYClfw55zhLXLSN/N/vAehz19ueOkDk/gupXSDu0OgulMfi06b9upPEgRn8tSE\" src=\"https://cdn.upbit.com/upbit-web/sri-v2-vendors-cb2d071c-bundle-1f78f47674353d78d765.js\"></script><script crossorigin=\"anonymous\" defer=\"defer\" integrity=\"sha384-J061NiBDfGb/g8lN9lJ3z3wuDkbIuTzqXflrIf679pmdFpJzt2T1qNvC7wyWvTC4\" src=\"https://cdn.upbit.com/upbit-web/sri-v2-vendors-27545368-bundle-8607a5d28c740463803a.js\"></script><script crossorigin=\"anonymous\" defer=\"defer\" integrity=\"sha384-v/aLGk7p0uRmZ21q8e718+RG6TXlGSU5SE230vxaOSzW9UDfO+629a9Dvh71Q3Lb\" src=\"https://cdn.upbit.com/upbit-web/sri-v2-vendors-866ab763-bundle-b5aff452bc62120b48dc.js\"></script><script crossorigin=\"anonymous\" defer=\"defer\" integrity=\"sha384-nEOqmMN9+TlHIaEmu34CtbaR4qZ3w5XaN8MeNXWZdEW7oJp0A0UhHcqoiyxfp+VB\" src=\"https://cdn.upbit.com/upbit-web/sri-v2-commons-bundle-eeb29758fe1538850c8f.js\"></script><script crossorigin=\"anonymous\" defer=\"defer\" integrity=\"sha384-Nx9xMUim1RgZVZkivO5e9uU20wG+6ADzKmwn+IXu7FkfL+SuEcqLHZrI/ZR/VSBM\" src=\"https://cdn.upbit.com/upbit-web/sri-v2-KR_PC-1f890bb4-bundle-b6d1f4deaad85b8bed0f.js\"></script><script crossorigin=\"anonymous\" defer=\"defer\" integrity=\"sha384-oRFwg7GHJBu3OKXyqh25FZXVlpRn1A4BwK9tcBBxrsCtR8b0HcXj4b+a5YgQuuFT\" src=\"https://cdn.upbit.com/upbit-web/sri-v2-KR_PC-9a8b795a-bundle-1dfb906f9c5fd3112a6c.js\"></script><link crossorigin=\"anonymous\" href=\"https://cdn.upbit.com/upbit-web/sri-v2-react-vendor-common-fe1d888d26f4a27f5972.css\" integrity=\"sha384-9CMu9UtP03ZwBj9WbhZ5Ao8V0xUifTi/lbh34DxnhCzAdu8vSY8a0Ee6NnnREb0q\" rel=\"stylesheet\"/><link crossorigin=\"anonymous\" href=\"https://cdn.upbit.com/upbit-web/sri-v2-chartiq-vendor-72d0fca8-common-34b4ffb8e91bf3147fb7.css\" integrity=\"sha384-v/OU0XsAamjpKgwTFCJJ7uGRRlI+ui8O+TEwGbV3MeqIDpst3Kiz6jTMqxiNskW7\" rel=\"stylesheet\"/><link crossorigin=\"anonymous\" href=\"https://cdn.upbit.com/upbit-web/sri-v2-commons-common-3a0e594e23bf67204aef.css\" integrity=\"sha384-jVDjb+zLw9+4cj3WfPGEZUM/sAMO/ZcxuejM9jH7gDNMQSorSSHBhcfUHE1AgGAh\" rel=\"stylesheet\"/><link crossorigin=\"anonymous\" href=\"https://cdn.upbit.com/upbit-web/sri-v2-KR_PC-1f890bb4-common-978f865dd2fc54fcb504.css\" integrity=\"sha384-D4PGuBzB0Mr0JUOrB+qjYefwPNcx+jKSec6Fbh6jxVwXULH2g3XiZUrohCpCuIHP\" rel=\"stylesheet\"/></head><body class=\"\"> <script nonce=\"3e98f3a48fa0b6627e2e3adebf5bc38a\">\n",
              "  window.__PRELOADED_STATE__=JSON.parse(`{\"local\":{}}`);\n",
              "</script>\n",
              "<div id=\"root\"></div><div id=\"modal\"></div></body></html>"
            ]
          },
          "metadata": {},
          "execution_count": 5
        }
      ]
    },
    {
      "cell_type": "code",
      "source": [
        "import json\n",
        "\n",
        "url = requests.get(\"https://project-team.upbit.com/api/v1/disclosure?region=kr&per_page20\")#network에서 json으로 데이터크롤링\n",
        "data = json.loads(url.text)\n",
        "\n",
        "for i in data ['data']['posts']:\n",
        "    print(i['text'])"
      ],
      "metadata": {
        "colab": {
          "base_uri": "https://localhost:8080/"
        },
        "id": "5T4QBSfWrXZI",
        "outputId": "dc1f6399-d41f-4dc9-e012-840d6d4b2160"
      },
      "execution_count": 6,
      "outputs": [
        {
          "output_type": "stream",
          "name": "stdout",
          "text": [
            "[기공개] 리브랜딩 : 피체인(PCHAIN)이 플리안(Plian)으로 바뀝니다\n",
            "어뷰징 물량 회수 및 소각 공시\n",
            "RINGX 재단, 롯데슈퍼와 업무 제휴 협약 체결\n",
            "베트남 기업 '마켓 사이공'에 블록체인 모빌리티 플랫폼 수출(SaaS)\n",
            "[기공개] 카르테시 x Travala 파트너십 체결\n",
            "[기공개] 엔진, 한국 최대 소셜 게이밍 플랫폼(겜톡톡)과 파트너십... 친환경 NFT 도입 예정\n",
            "[기공개] 플레이댑, 루데나 프로토콜 NFT아이템 거래 지원 계약\n",
            "[기공개] Bifrost PAID Network와 업무 협력 파트너쉽 체결\n",
            "[기공개] 칠리즈, 맨체스터 시티 FC 파트너십 발표\n",
            "[기공개] 토큰 액면 병합: NPXS가 PUNDIX로 바뀝니다.\n",
            "[기공개] 크립토닷컴, 비자와 글로벌 파트너쉽 체결 및 주요 회원사로 선정\n",
            "[기공개] 메디블록, 블록체인 기반의 DID 백신패스 출시 예정\n",
            "[기공개] P2P 마켓플레이스 오리진 프로토콜 , NFT 및 OUSD 라이트페이퍼 출시\n",
            "5조원 규모 초대형 북미 펀드인 Celsius Network에서 GOM2에 투자\n",
            "인도네시아 기업 '퀵스'에 MVL 프로토콜 기반 모빌리티 서비스 플랫폼 수출(SaaS)\n",
            "오브스(Orbs), 블록체인 기업 MOONSTAKE와 협업\n",
            "쎄타랩스, 분산형 비디오 및 데이터 전송을 지원하기 위한 초고 트랜잭션 처리량 소액 결제에 대한 두번째 미국특허취득\n",
            "픽션 네트워크, 신임 대표이사 선출\n",
            "RINGX 재단, OK캐쉬백((주)위페이)과 ‘마이비(Mivy)’ 플랫폼 전환 협업 진행\n",
            "토카막 다오 베타 출시\n"
          ]
        }
      ]
    }
  ]
}