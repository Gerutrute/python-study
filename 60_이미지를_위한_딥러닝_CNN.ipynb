{
  "nbformat": 4,
  "nbformat_minor": 0,
  "metadata": {
    "colab": {
      "provenance": [],
      "authorship_tag": "ABX9TyNrKQSwf7XAO+E4NopsHBId"
    },
    "kernelspec": {
      "name": "python3",
      "display_name": "Python 3"
    },
    "language_info": {
      "name": "python"
    }
  },
  "cells": [
    {
      "cell_type": "code",
      "execution_count": 2,
      "metadata": {
        "id": "u97GB3uaMNEK"
      },
      "outputs": [],
      "source": [
        "from tensorflow import keras\n",
        "from sklearn.model_selection import train_test_split"
      ]
    },
    {
      "cell_type": "code",
      "source": [
        "(train_input, train_target), (test_input, test_target) = keras.datasets.fashion_mnist.load_data()"
      ],
      "metadata": {
        "colab": {
          "base_uri": "https://localhost:8080/"
        },
        "id": "1_3Y3fvvPAvE",
        "outputId": "15d4c151-2203-4f09-ecd1-62d55aa4748b"
      },
      "execution_count": 5,
      "outputs": [
        {
          "output_type": "stream",
          "name": "stdout",
          "text": [
            "Downloading data from https://storage.googleapis.com/tensorflow/tf-keras-datasets/train-labels-idx1-ubyte.gz\n",
            "29515/29515 [==============================] - 0s 0us/step\n",
            "Downloading data from https://storage.googleapis.com/tensorflow/tf-keras-datasets/train-images-idx3-ubyte.gz\n",
            "26421880/26421880 [==============================] - 2s 0us/step\n",
            "Downloading data from https://storage.googleapis.com/tensorflow/tf-keras-datasets/t10k-labels-idx1-ubyte.gz\n",
            "5148/5148 [==============================] - 0s 0us/step\n",
            "Downloading data from https://storage.googleapis.com/tensorflow/tf-keras-datasets/t10k-images-idx3-ubyte.gz\n",
            "4422102/4422102 [==============================] - 1s 0us/step\n"
          ]
        }
      ]
    },
    {
      "cell_type": "code",
      "source": [
        "train_input, val_input, train_target, val_target = train_test_split(train_input, train_target, test_size = 0.1)"
      ],
      "metadata": {
        "id": "6QYxtDI8PAo2"
      },
      "execution_count": 9,
      "outputs": []
    },
    {
      "cell_type": "code",
      "source": [
        "train_scaled = train_input.reshape(-1, 28, 28, 1) /255\n",
        "val_scaled = val_input.reshape(-1, 28, 28, 1) /255\n",
        "test_scaled = test_input.reshape(-1, 28, 28, 1) /255"
      ],
      "metadata": {
        "id": "w93gGy1hOyj3"
      },
      "execution_count": 18,
      "outputs": []
    },
    {
      "cell_type": "code",
      "source": [
        "model = keras.Sequential()\n",
        "model.add(keras.layers.Conv2D(filters = 32, kernel_size = (3, 3), padding = 'same', activation = 'relu', input_shape = (28, 28, 1)))\n",
        "model.add(keras.layers.MaxPooling2D(2))\n",
        "model.add(keras.layers.Conv2D(filters = 16, kernel_size = (3, 3), padding = 'same', activation = 'relu'))\n",
        "model.add(keras.layers.MaxPooling2D(2))\n",
        "\n",
        "model.add(keras.layers.Flatten())\n",
        "model.add(keras.layers.Dense(100, activation = 'relu'))\n",
        "model.add(keras.layers.Dropout(0.3))\n",
        "model.add(keras.layers.Dense(10, activation = 'softmax'))\n",
        "\n",
        "es = keras.callbacks.EarlyStopping(patience = 3, restore_best_weights=True)\n",
        "\n",
        "model.compile(loss='sparse_categorical_crossentropy', metrics = 'accuracy', optimizer = 'adam')\n",
        "\n",
        "hist = model.fit(train_scaled, train_target, epochs = 10000, validation_data=(val_scaled, val_target), callbacks= [es])"
      ],
      "metadata": {
        "colab": {
          "base_uri": "https://localhost:8080/"
        },
        "id": "HP9KdZNHPcaO",
        "outputId": "e5e8e05f-618c-403a-dc91-6573190984d0"
      },
      "execution_count": 21,
      "outputs": [
        {
          "output_type": "stream",
          "name": "stdout",
          "text": [
            "Epoch 1/10000\n",
            "1519/1519 [==============================] - 40s 26ms/step - loss: 0.5263 - accuracy: 0.8086 - val_loss: 0.3543 - val_accuracy: 0.8743\n",
            "Epoch 2/10000\n",
            "1519/1519 [==============================] - 42s 28ms/step - loss: 0.3563 - accuracy: 0.8709 - val_loss: 0.3270 - val_accuracy: 0.8852\n",
            "Epoch 3/10000\n",
            "1519/1519 [==============================] - 39s 26ms/step - loss: 0.3088 - accuracy: 0.8864 - val_loss: 0.2943 - val_accuracy: 0.8963\n",
            "Epoch 4/10000\n",
            "1519/1519 [==============================] - 39s 26ms/step - loss: 0.2782 - accuracy: 0.8979 - val_loss: 0.2687 - val_accuracy: 0.9046\n",
            "Epoch 5/10000\n",
            "1519/1519 [==============================] - 39s 26ms/step - loss: 0.2572 - accuracy: 0.9032 - val_loss: 0.2567 - val_accuracy: 0.9083\n",
            "Epoch 6/10000\n",
            "1519/1519 [==============================] - 39s 26ms/step - loss: 0.2380 - accuracy: 0.9114 - val_loss: 0.2517 - val_accuracy: 0.9085\n",
            "Epoch 7/10000\n",
            "1519/1519 [==============================] - 40s 26ms/step - loss: 0.2227 - accuracy: 0.9168 - val_loss: 0.2487 - val_accuracy: 0.9117\n",
            "Epoch 8/10000\n",
            "1519/1519 [==============================] - 39s 26ms/step - loss: 0.2115 - accuracy: 0.9198 - val_loss: 0.2397 - val_accuracy: 0.9131\n",
            "Epoch 9/10000\n",
            "1519/1519 [==============================] - 39s 26ms/step - loss: 0.2017 - accuracy: 0.9249 - val_loss: 0.2422 - val_accuracy: 0.9126\n",
            "Epoch 10/10000\n",
            "1519/1519 [==============================] - 39s 26ms/step - loss: 0.1918 - accuracy: 0.9272 - val_loss: 0.2414 - val_accuracy: 0.9170\n",
            "Epoch 11/10000\n",
            "1519/1519 [==============================] - 39s 26ms/step - loss: 0.1817 - accuracy: 0.9309 - val_loss: 0.2326 - val_accuracy: 0.9191\n",
            "Epoch 12/10000\n",
            "1519/1519 [==============================] - 40s 26ms/step - loss: 0.1740 - accuracy: 0.9349 - val_loss: 0.2313 - val_accuracy: 0.9185\n",
            "Epoch 13/10000\n",
            "1519/1519 [==============================] - 39s 26ms/step - loss: 0.1646 - accuracy: 0.9363 - val_loss: 0.2302 - val_accuracy: 0.9189\n",
            "Epoch 14/10000\n",
            "1519/1519 [==============================] - 39s 25ms/step - loss: 0.1574 - accuracy: 0.9411 - val_loss: 0.2448 - val_accuracy: 0.9157\n",
            "Epoch 15/10000\n",
            "1519/1519 [==============================] - 40s 26ms/step - loss: 0.1500 - accuracy: 0.9438 - val_loss: 0.2373 - val_accuracy: 0.9194\n",
            "Epoch 16/10000\n",
            "1519/1519 [==============================] - 39s 26ms/step - loss: 0.1478 - accuracy: 0.9431 - val_loss: 0.2349 - val_accuracy: 0.9209\n"
          ]
        }
      ]
    },
    {
      "cell_type": "code",
      "source": [
        "test_target = test_target[:6000]\n",
        "model.evaluate(test_scaled, test_target)"
      ],
      "metadata": {
        "colab": {
          "base_uri": "https://localhost:8080/"
        },
        "id": "9w8hBMXFRA68",
        "outputId": "b39882ab-3c07-4bc3-8405-8bf213c6338e"
      },
      "execution_count": 24,
      "outputs": [
        {
          "output_type": "stream",
          "name": "stdout",
          "text": [
            "188/188 [==============================] - 3s 14ms/step - loss: 20.7046 - accuracy: 0.0937\n"
          ]
        },
        {
          "output_type": "execute_result",
          "data": {
            "text/plain": [
              "[20.704551696777344, 0.09366666525602341]"
            ]
          },
          "metadata": {},
          "execution_count": 24
        }
      ]
    },
    {
      "cell_type": "code",
      "source": [
        "import matplotlib.pyplot as plt\n",
        "\n",
        "plt.plot(hist.history['loss'])\n",
        "plt.plot(hist.history['val_loss'])"
      ],
      "metadata": {
        "colab": {
          "base_uri": "https://localhost:8080/",
          "height": 448
        },
        "id": "8wkujprKR3oj",
        "outputId": "862e35e9-2bf5-4ee3-ac61-9f6ae627a91e"
      },
      "execution_count": 23,
      "outputs": [
        {
          "output_type": "execute_result",
          "data": {
            "text/plain": [
              "[<matplotlib.lines.Line2D at 0x7f3dcf495b10>]"
            ]
          },
          "metadata": {},
          "execution_count": 23
        },
        {
          "output_type": "display_data",
          "data": {
            "text/plain": [
              "<Figure size 640x480 with 1 Axes>"
            ],
            "image/png": "[encoded data removed]"
          },
          "metadata": {}
        }
      ]
    }
  ]
}