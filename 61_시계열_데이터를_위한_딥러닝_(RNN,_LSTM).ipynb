{
  "nbformat": 4,
  "nbformat_minor": 0,
  "metadata": {
    "colab": {
      "provenance": [],
      "authorship_tag": "ABX9TyNEwk8ZxbI4dp8LrGEjlw/W"
    },
    "kernelspec": {
      "name": "python3",
      "display_name": "Python 3"
    },
    "language_info": {
      "name": "python"
    }
  },
  "cells": [
    {
      "cell_type": "code",
      "execution_count": 1,
      "metadata": {
        "id": "8pHDGrgUc9SL"
      },
      "outputs": [],
      "source": [
        "from tensorflow import keras\n",
        "from sklearn.model_selection import train_test_split\n",
        "\n",
        "# imdb : 영화 리뷰 데이터(긍정, 부정) // 많이 사용된 순으로 1위~500위 까지 단어만 가져온다.\n",
        "(train_input, train_target), (test_input, test_target) = keras.datasets.imdb.load_data(num_words = 500)\n",
        "train_input, val_input, train_target, val_target = train_test_split(train_input, train_target, test_size = 0.2)"
      ]
    },
    {
      "cell_type": "code",
      "source": [
        "import numpy as np\n",
        "\n",
        "box = []\n",
        "\n",
        "for i in train_input:\n",
        "    box.append(len(i))\n",
        "\n",
        "np.mean(box)"
      ],
      "metadata": {
        "colab": {
          "base_uri": "https://localhost:8080/"
        },
        "id": "ricsnEG5gikn",
        "outputId": "4be1b53f-663a-4a31-a53a-758be4b2ec3d"
      },
      "execution_count": 3,
      "outputs": [
        {
          "output_type": "execute_result",
          "data": {
            "text/plain": [
              "237.9756"
            ]
          },
          "metadata": {},
          "execution_count": 3
        }
      ]
    },
    {
      "cell_type": "code",
      "source": [
        "from keras.preprocessing.sequence import pad_sequences\n",
        "\n",
        "# 단어가 적든많든 무조건 리뷰 안에 있는 단어를 100개로 맞춤\n",
        "train_seq = pad_sequences(train_input, maxlen = 100)\n",
        "val_seq = pad_sequences(val_input, maxlen = 100)"
      ],
      "metadata": {
        "id": "eTbTWvEYg0Uh"
      },
      "execution_count": 4,
      "outputs": []
    },
    {
      "cell_type": "code",
      "source": [
        "# 단어가 많으면 앞에서부터 자름\n",
        "# 단어가 적으면 0으로 채워서라도 100개를 맞춤\n",
        "train_seq.shape"
      ],
      "metadata": {
        "colab": {
          "base_uri": "https://localhost:8080/"
        },
        "id": "0P6I6PQXhPXG",
        "outputId": "ac49e6a0-2f2d-4321-abea-1aaacf019d02"
      },
      "execution_count": 5,
      "outputs": [
        {
          "output_type": "execute_result",
          "data": {
            "text/plain": [
              "(20000, 100)"
            ]
          },
          "metadata": {},
          "execution_count": 5
        }
      ]
    },
    {
      "cell_type": "code",
      "source": [
        "train_seq[5]"
      ],
      "metadata": {
        "colab": {
          "base_uri": "https://localhost:8080/"
        },
        "id": "en0T0gyZhYhj",
        "outputId": "29dd0c98-60ae-492e-a76a-97279ddd0ba8"
      },
      "execution_count": 6,
      "outputs": [
        {
          "output_type": "execute_result",
          "data": {
            "text/plain": [
              "array([176,   7, 278,  11,  12,   2,   5,   2,  26,   2, 261,  41, 268,\n",
              "         2, 100, 361,   6, 227,  53,   2,   5,   2,  56,   2,   5,   2,\n",
              "        26, 321,  23,   4,  85,   2,  12,   9,  31,   7, 148,  66,  66,\n",
              "         2, 102, 121,  31,   2, 339,  21,   2,   2,   4, 167, 309,   2,\n",
              "         8,   2,   2, 139,   5, 422,  31,   2, 339,  21,   2,  89, 111,\n",
              "         2,  80, 141,   6,  20,   2,  10,  10,  11,   2,   2,   2,  12,\n",
              "         9,   6,   2,  21,  13,  66,  28,   8,   2,   2,  37, 134,  84,\n",
              "        26,   2,  68, 278,   8,   2, 141,   6,  20], dtype=int32)"
            ]
          },
          "metadata": {},
          "execution_count": 6
        }
      ]
    },
    {
      "cell_type": "code",
      "source": [
        "# 원핫인코딩 : 해당 숫자만 1이고 나머지가 0\n",
        "\n",
        "train_oh = keras.utils.to_categorical(train_seq)\n",
        "val_oh = keras.utils.to_categorical(val_seq)"
      ],
      "metadata": {
        "id": "xIFE1vFihg2F"
      },
      "execution_count": 7,
      "outputs": []
    },
    {
      "cell_type": "code",
      "source": [
        "train_oh.shape"
      ],
      "metadata": {
        "colab": {
          "base_uri": "https://localhost:8080/"
        },
        "id": "NXbiuJ4Rh3iz",
        "outputId": "cc610ff0-ab10-4ed1-964c-ef2a464d5b2c"
      },
      "execution_count": 8,
      "outputs": [
        {
          "output_type": "execute_result",
          "data": {
            "text/plain": [
              "(20000, 100, 500)"
            ]
          },
          "metadata": {},
          "execution_count": 8
        }
      ]
    },
    {
      "cell_type": "code",
      "source": [
        "train_oh[1]"
      ],
      "metadata": {
        "colab": {
          "base_uri": "https://localhost:8080/"
        },
        "id": "BOip-J5jh7rh",
        "outputId": "8d9a507f-1e92-43ab-d682-6f1254f97944"
      },
      "execution_count": 9,
      "outputs": [
        {
          "output_type": "execute_result",
          "data": {
            "text/plain": [
              "array([[0., 0., 1., ..., 0., 0., 0.],\n",
              "       [0., 0., 0., ..., 0., 0., 0.],\n",
              "       [0., 0., 0., ..., 0., 0., 0.],\n",
              "       ...,\n",
              "       [0., 0., 0., ..., 0., 0., 0.],\n",
              "       [0., 0., 0., ..., 0., 0., 0.],\n",
              "       [0., 0., 0., ..., 0., 0., 0.]], dtype=float32)"
            ]
          },
          "metadata": {},
          "execution_count": 9
        }
      ]
    },
    {
      "cell_type": "code",
      "source": [
        "model = keras.Sequential()\n",
        "model.add(keras.layers.LSTM(8, input_shape = (100, 500)))\n",
        "model.add(keras.layers.Dense(2, activation= 'softmax'))\n",
        "\n",
        "model.compile(loss='sparse_categorical_crossentropy', metrics = 'accuracy', optimizer = 'adam')\n",
        "\n",
        "es = keras.callbacks.EarlyStopping(patience = 3, restore_best_weights=True)\n",
        "\n",
        "hist = model.fit(train_oh, train_target, epochs = 10000, validation_data = (val_oh, val_target), callbacks = [es])"
      ],
      "metadata": {
        "id": "CTtcQZ-NiCho"
      },
      "execution_count": null,
      "outputs": []
    },
    {
      "cell_type": "code",
      "source": [
        "import matplotlib.pyplot as plt\n",
        "\n",
        "plt.plot(hist.history['loss'])\n",
        "plt.plot(hist.history['val_loss'])"
      ],
      "metadata": {
        "id": "-pTOKMlSjFPn"
      },
      "execution_count": null,
      "outputs": []
    }
  ]
}