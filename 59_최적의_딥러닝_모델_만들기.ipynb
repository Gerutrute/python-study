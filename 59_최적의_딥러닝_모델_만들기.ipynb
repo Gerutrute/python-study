{
  "nbformat": 4,
  "nbformat_minor": 0,
  "metadata": {
    "colab": {
      "provenance": [],
      "authorship_tag": "ABX9TyMa9Gc/QCYoCS+fs+UzAc2y"
    },
    "kernelspec": {
      "name": "python3",
      "display_name": "Python 3"
    },
    "language_info": {
      "name": "python"
    }
  },
  "cells": [
    {
      "cell_type": "code",
      "execution_count": 2,
      "metadata": {
        "id": "3KfhHgbVDEJv"
      },
      "outputs": [],
      "source": [
        "from tensorflow import keras\n",
        "from sklearn.model_selection import train_test_split"
      ]
    },
    {
      "cell_type": "code",
      "source": [
        "# 옷 데이터\n",
        "(train_input, train_target), (test_input, test_target) = keras.datasets.fashion_mnist.load_data()"
      ],
      "metadata": {
        "colab": {
          "base_uri": "https://localhost:8080/"
        },
        "id": "lworCwLqDMJd",
        "outputId": "3c5427c7-30ec-4e00-8806-9460afbd5a40"
      },
      "execution_count": 4,
      "outputs": [
        {
          "output_type": "stream",
          "name": "stdout",
          "text": [
            "Downloading data from https://storage.googleapis.com/tensorflow/tf-keras-datasets/train-labels-idx1-ubyte.gz\n",
            "29515/29515 [==============================] - 0s 0us/step\n",
            "Downloading data from https://storage.googleapis.com/tensorflow/tf-keras-datasets/train-images-idx3-ubyte.gz\n",
            "26421880/26421880 [==============================] - 0s 0us/step\n",
            "Downloading data from https://storage.googleapis.com/tensorflow/tf-keras-datasets/t10k-labels-idx1-ubyte.gz\n",
            "5148/5148 [==============================] - 0s 0us/step\n",
            "Downloading data from https://storage.googleapis.com/tensorflow/tf-keras-datasets/t10k-images-idx3-ubyte.gz\n",
            "4422102/4422102 [==============================] - 0s 0us/step\n"
          ]
        }
      ]
    },
    {
      "cell_type": "code",
      "source": [
        "train_input.shape"
      ],
      "metadata": {
        "colab": {
          "base_uri": "https://localhost:8080/"
        },
        "id": "79ysJCG_DrYF",
        "outputId": "88fd2652-3995-4626-ee25-8550aede63bd"
      },
      "execution_count": 5,
      "outputs": [
        {
          "output_type": "execute_result",
          "data": {
            "text/plain": [
              "(60000, 28, 28)"
            ]
          },
          "metadata": {},
          "execution_count": 5
        }
      ]
    },
    {
      "cell_type": "code",
      "source": [
        "test_input.shape"
      ],
      "metadata": {
        "colab": {
          "base_uri": "https://localhost:8080/"
        },
        "id": "698BtxaHDtme",
        "outputId": "248e0ab6-11ab-4ee0-a273-9446f0db4db2"
      },
      "execution_count": 6,
      "outputs": [
        {
          "output_type": "execute_result",
          "data": {
            "text/plain": [
              "(10000, 28, 28)"
            ]
          },
          "metadata": {},
          "execution_count": 6
        }
      ]
    },
    {
      "cell_type": "code",
      "source": [
        "train_input, val_input, train_target, val_target = train_test_split(train_input, train_target, test_size = 0.1)"
      ],
      "metadata": {
        "id": "Qz98DD7BDv19"
      },
      "execution_count": 7,
      "outputs": []
    },
    {
      "cell_type": "code",
      "source": [
        "import matplotlib.pyplot as plt\n",
        "\n",
        "plt.imshow(train_input[3])"
      ],
      "metadata": {
        "colab": {
          "base_uri": "https://localhost:8080/",
          "height": 448
        },
        "id": "-DwzYnvaD8Xx",
        "outputId": "73e5eb37-16cc-4e5f-e561-9afcc69e4167"
      },
      "execution_count": 8,
      "outputs": [
        {
          "output_type": "execute_result",
          "data": {
            "text/plain": [
              "<matplotlib.image.AxesImage at 0x7a183961c8b0>"
            ]
          },
          "metadata": {},
          "execution_count": 8
        },
        {
          "output_type": "display_data",
          "data": {
            "text/plain": [
              "<Figure size 640x480 with 1 Axes>"
            ],
            "image/png": "[encoded data removed]"
          },
          "metadata": {}
        }
      ]
    },
    {
      "cell_type": "code",
      "source": [
        "train_target[3]"
      ],
      "metadata": {
        "colab": {
          "base_uri": "https://localhost:8080/"
        },
        "id": "GSWWMlxVEEEl",
        "outputId": "e4bbea44-74a6-4de9-9a5b-5b1d39e3cf4c"
      },
      "execution_count": 9,
      "outputs": [
        {
          "output_type": "execute_result",
          "data": {
            "text/plain": [
              "9"
            ]
          },
          "metadata": {},
          "execution_count": 9
        }
      ]
    },
    {
      "cell_type": "code",
      "source": [
        "# 픽셀값 0~255 / 0에 가까울수록 검은색, 255에 가까울수록 흰색\n",
        "\n",
        "train_scaled = train_input.reshape(-1, 784) / 255\n",
        "val_scaled = val_input.reshape(-1, 784) / 255\n",
        "test_scaled = test_input.reshape(-1, 784) / 255"
      ],
      "metadata": {
        "id": "YttxukCcEIpf"
      },
      "execution_count": 16,
      "outputs": []
    },
    {
      "cell_type": "code",
      "source": [
        "train_scaled.shape"
      ],
      "metadata": {
        "colab": {
          "base_uri": "https://localhost:8080/"
        },
        "id": "2vIUa0ENEdXY",
        "outputId": "57f06a85-8be7-43fb-8360-d02851872129"
      },
      "execution_count": 11,
      "outputs": [
        {
          "output_type": "execute_result",
          "data": {
            "text/plain": [
              "(54000, 784)"
            ]
          },
          "metadata": {},
          "execution_count": 11
        }
      ]
    },
    {
      "cell_type": "code",
      "source": [
        "model = keras.Sequential()\n",
        "model.add(keras.layers.Dense(256, activation = 'relu', input_shape = (784,)))\n",
        "model.add(keras.layers.Dropout(0.3)) # 이 은닉층의 30%는 랜덤으로 끄겠다\n",
        "model.add(keras.layers.Dense(128, activation = 'relu'))\n",
        "model.add(keras.layers.Dropout(0.3))\n",
        "model.add(keras.layers.Dense(10, activation = 'softmax'))\n",
        "\n",
        "# 5번 연속 나빠지면 학습 강제종료, 마지막 5번은 삭제한다. -> 좋은 모델을 만들기 위함\n",
        "es = keras.callbacks.EarlyStopping(patience = 5, restore_best_weights = True)\n",
        "cp = keras.callbacks.ModelCheckpoint('best.h5')\n",
        "\n",
        "model.compile(loss = 'sparse_categorical_crossentropy', metrics = 'accuracy', optimizer = 'adam') # 학습률 조정\n",
        "\n",
        "hist = model.fit(train_scaled, train_target, epochs = 30, validation_data = (val_scaled, val_target), callbacks = [es,cp])"
      ],
      "metadata": {
        "colab": {
          "base_uri": "https://localhost:8080/"
        },
        "id": "1cC-b0cJEfl4",
        "outputId": "b3c67900-9ee6-405b-dff5-8f0f84d480bd"
      },
      "execution_count": 18,
      "outputs": [
        {
          "output_type": "stream",
          "name": "stdout",
          "text": [
            "Epoch 1/30\n",
            "1688/1688 [==============================] - 12s 6ms/step - loss: 0.5879 - accuracy: 0.7888 - val_loss: 0.4112 - val_accuracy: 0.8450\n",
            "Epoch 2/30\n",
            "  29/1688 [..............................] - ETA: 9s - loss: 0.5226 - accuracy: 0.8017"
          ]
        },
        {
          "output_type": "stream",
          "name": "stderr",
          "text": [
            "/usr/local/lib/python3.10/dist-packages/keras/src/engine/training.py:3103: UserWarning: You are saving your model as an HDF5 file via `model.save()`. This file format is considered legacy. We recommend using instead the native Keras format, e.g. `model.save('my_model.keras')`.\n",
            "  saving_api.save_model(\n"
          ]
        },
        {
          "output_type": "stream",
          "name": "stdout",
          "text": [
            "1688/1688 [==============================] - 11s 6ms/step - loss: 0.4426 - accuracy: 0.8410 - val_loss: 0.3750 - val_accuracy: 0.8602\n",
            "Epoch 3/30\n",
            "1688/1688 [==============================] - 11s 6ms/step - loss: 0.4048 - accuracy: 0.8536 - val_loss: 0.3512 - val_accuracy: 0.8663\n",
            "Epoch 4/30\n",
            "1688/1688 [==============================] - 10s 6ms/step - loss: 0.3862 - accuracy: 0.8583 - val_loss: 0.3293 - val_accuracy: 0.8787\n",
            "Epoch 5/30\n",
            "1688/1688 [==============================] - 10s 6ms/step - loss: 0.3698 - accuracy: 0.8660 - val_loss: 0.3182 - val_accuracy: 0.8798\n",
            "Epoch 6/30\n",
            "1688/1688 [==============================] - 9s 6ms/step - loss: 0.3576 - accuracy: 0.8701 - val_loss: 0.3118 - val_accuracy: 0.8825\n",
            "Epoch 7/30\n",
            "1688/1688 [==============================] - 11s 6ms/step - loss: 0.3462 - accuracy: 0.8731 - val_loss: 0.3088 - val_accuracy: 0.8840\n",
            "Epoch 8/30\n",
            "1688/1688 [==============================] - 11s 6ms/step - loss: 0.3394 - accuracy: 0.8752 - val_loss: 0.3062 - val_accuracy: 0.8822\n",
            "Epoch 9/30\n",
            "1688/1688 [==============================] - 11s 6ms/step - loss: 0.3302 - accuracy: 0.8783 - val_loss: 0.3066 - val_accuracy: 0.8882\n",
            "Epoch 10/30\n",
            "1688/1688 [==============================] - 11s 6ms/step - loss: 0.3269 - accuracy: 0.8786 - val_loss: 0.2960 - val_accuracy: 0.8903\n",
            "Epoch 11/30\n",
            "1688/1688 [==============================] - 11s 6ms/step - loss: 0.3188 - accuracy: 0.8835 - val_loss: 0.2980 - val_accuracy: 0.8898\n",
            "Epoch 12/30\n",
            "1688/1688 [==============================] - 10s 6ms/step - loss: 0.3128 - accuracy: 0.8846 - val_loss: 0.3123 - val_accuracy: 0.8827\n",
            "Epoch 13/30\n",
            "1688/1688 [==============================] - 10s 6ms/step - loss: 0.3045 - accuracy: 0.8854 - val_loss: 0.3013 - val_accuracy: 0.8877\n",
            "Epoch 14/30\n",
            "1688/1688 [==============================] - 11s 6ms/step - loss: 0.3058 - accuracy: 0.8871 - val_loss: 0.2991 - val_accuracy: 0.8893\n",
            "Epoch 15/30\n",
            "1688/1688 [==============================] - 11s 6ms/step - loss: 0.2973 - accuracy: 0.8896 - val_loss: 0.2845 - val_accuracy: 0.8940\n",
            "Epoch 16/30\n",
            "1688/1688 [==============================] - 12s 7ms/step - loss: 0.2935 - accuracy: 0.8919 - val_loss: 0.3019 - val_accuracy: 0.8883\n",
            "Epoch 17/30\n",
            "1688/1688 [==============================] - 11s 6ms/step - loss: 0.2868 - accuracy: 0.8933 - val_loss: 0.2896 - val_accuracy: 0.8907\n",
            "Epoch 18/30\n",
            "1688/1688 [==============================] - 10s 6ms/step - loss: 0.2858 - accuracy: 0.8936 - val_loss: 0.2893 - val_accuracy: 0.8908\n",
            "Epoch 19/30\n",
            "1688/1688 [==============================] - 10s 6ms/step - loss: 0.2831 - accuracy: 0.8939 - val_loss: 0.2924 - val_accuracy: 0.8945\n",
            "Epoch 20/30\n",
            "1688/1688 [==============================] - 11s 7ms/step - loss: 0.2770 - accuracy: 0.8969 - val_loss: 0.2911 - val_accuracy: 0.8940\n"
          ]
        }
      ]
    },
    {
      "cell_type": "code",
      "source": [
        "# prompt:\n",
        "\n",
        "model.summary()\n"
      ],
      "metadata": {
        "colab": {
          "base_uri": "https://localhost:8080/",
          "height": 450
        },
        "id": "bA_L4qWJFL_q",
        "outputId": "1f0044f3-bfe4-499e-d818-d2ac9e32d011"
      },
      "execution_count": 19,
      "outputs": [
        {
          "output_type": "execute_result",
          "data": {
            "text/plain": [
              "[<matplotlib.lines.Line2D at 0x7a1831280ee0>]"
            ]
          },
          "metadata": {},
          "execution_count": 19
        },
        {
          "output_type": "display_data",
          "data": {
            "text/plain": [
              "<Figure size 640x480 with 1 Axes>"
            ],
            "image/png": "[encoded data removed]"
          },
          "metadata": {}
        }
      ]
    }
  ]
}